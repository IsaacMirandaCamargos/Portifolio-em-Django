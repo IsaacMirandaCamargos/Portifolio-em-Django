{
 "cells": [
  {
   "cell_type": "markdown",
   "id": "24f80cd2",
   "metadata": {},
   "source": [
    "# Road map"
   ]
  },
  {
   "cell_type": "markdown",
   "id": "d12fce9b",
   "metadata": {},
   "source": [
    "### 1. Recebendo informações:\n",
    "\n",
    "Quando estamos fazendo uma aplicação muitas vezes queremos que os usuarios construam, enviem, informações para nosso banco de dados. Para que um usuário possa enviar informações para nosso banco de dados devemos criar uma tag `form` no nosso frontend.\n",
    "\n",
    "Na tag `form`que criaremos devemos passar a `url` para onde o frontend irá enviar as informações, usando: (O metodo do formulário pode ser GET ou POST)"
   ]
  },
  {
   "cell_type": "markdown",
   "id": "6af21ca6",
   "metadata": {},
   "source": [
    ".<form `action=\"{% url 'nome_da_url' %}\"` method=POST}>\n",
    "\n",
    "`{% csrf_token %}`\n",
    "\n",
    "\n",
    "    <input type=\"text\" name=\"nome_da_informação\" id=\"nome_da_informação\">\n",
    "    <input type=\"text\" name=\"nome_da_informação_2\" id=\"nome_da_informação_2\">\n",
    "    <textarea name=\"nome_da_informação_3\" id=\"nome_da_informação_3\"  rows=\"3\"></textarea>\n",
    "\n",
    "\n",
    "    </form>"
   ]
  },
  {
   "cell_type": "markdown",
   "id": "ac7bd299",
   "metadata": {},
   "source": [
    "Para pegarmos as informações na nossa `url` iremos entrar na sua correspondente função na `views` e usar:"
   ]
  },
  {
   "cell_type": "markdown",
   "id": "933827f2",
   "metadata": {},
   "source": [
    "def funcao_url(resquest):\n",
    "\n",
    "    info = request.GET('nome_da_informação')\n",
    "    info2 = request.GET('nome_da_informação_2')\n",
    "    info3 = request.GET('nome_da_informação_3')"
   ]
  },
  {
   "cell_type": "markdown",
   "id": "46ab1450",
   "metadata": {},
   "source": [
    "### 2. Modais: Caixas de enviar informações.\n",
    "\n",
    "Muitas vezes queremos enviar informações, entretanto não queremos alterar o HTML da pagina. Para estes casos há solução, os modais. \n",
    "\n",
    "Os modais são janelas, pop-ups, que aparecem na tela sem ter que alterar o codigo html da pagina. Os modais podem conter diversos tipos de informações, como formulario (`form`) para envio de dados, textos, fotos e etc. Para nosso caso usaremos o modal do bootstrap. \n",
    "\n",
    "O botão que chama o modal é:"
   ]
  },
  {
   "cell_type": "markdown",
   "id": "70f38fe7",
   "metadata": {},
   "source": [
    "<button type=\"button\" data-bs-toggle=\"modal\" `data-bs-target=\"#modal-quote-create\"`>Adicionar nova citação</button>"
   ]
  },
  {
   "cell_type": "markdown",
   "id": "a2521f73",
   "metadata": {},
   "source": [
    "Observa-se que o `data-bs-target` do botão tem que ter o mesmo nome que o `id` do modal."
   ]
  },
  {
   "cell_type": "markdown",
   "id": "cbf8380e",
   "metadata": {},
   "source": [
    "O modal é da forma:"
   ]
  },
  {
   "cell_type": "markdown",
   "id": "c89bc227",
   "metadata": {},
   "source": [
    "    <div class=\"modal\" id=\"modal-quote-create\" tabindex=\"-1\" role=\"dialog\">\n",
    "        <div class=\"modal-dialog\" role=\"document\">\n",
    "            <div class=\"modal-content\">\n",
    "\n",
    "                <div class=\"modal-body\">\n",
    "\n",
    "\n",
    "                    <form action=\"{% url 'quotes_crud_create' %}\" method=\"POST\">\n",
    "                        {% csrf_token %}\n",
    "                        <div class=\"mb-3\">\n",
    "                            <label for=\"quote_thinker\" class=\"form-label\">Pensador</label>\n",
    "                            <input type=\"text\" class=\"form-control\" name=\"quote_thinker\" id=\"quote_thinker\">\n",
    "                        </div>\n",
    "                        <div class=\"mb-3\">\n",
    "                            <label for=\"exampleFormControlTextarea1\" class=\"form-label\">Texto</label>\n",
    "                            <textarea class=\"form-control\" id=\"quote_text\" name=\"quote_text\"\n",
    "                                rows=\"3\"></textarea>\n",
    "                        </div>\n",
    "                        <button type=\"submit\" class=\"btn btn-success btn-sm\">Adicionar</button>\n",
    "                        <button type=\"button\" class=\"btn btn-secondary btn-sm\"\n",
    "                            data-bs-dismiss=\"modal\">Cancelar</button>\n",
    "                    </form>\n",
    "\n",
    "\n",
    "                </div>\n",
    "            </div>\n",
    "        </div>\n",
    "    </div>"
   ]
  },
  {
   "cell_type": "markdown",
   "id": "a71a91e7",
   "metadata": {},
   "source": [
    "Observa-se que o `data-bs-target` do botão tem que ter o mesmo nome que o `id` do modal."
   ]
  },
  {
   "cell_type": "markdown",
   "id": "22a89b63",
   "metadata": {},
   "source": []
  },
  {
   "cell_type": "markdown",
   "id": "abcee07c",
   "metadata": {},
   "source": []
  },
  {
   "cell_type": "markdown",
   "id": "3c3f1deb",
   "metadata": {},
   "source": []
  },
  {
   "cell_type": "markdown",
   "id": "9529969f",
   "metadata": {},
   "source": []
  },
  {
   "cell_type": "markdown",
   "id": "8213b102",
   "metadata": {},
   "source": []
  },
  {
   "cell_type": "markdown",
   "id": "e946a6e2",
   "metadata": {},
   "source": []
  },
  {
   "cell_type": "markdown",
   "id": "9ab051bf",
   "metadata": {},
   "source": []
  },
  {
   "cell_type": "markdown",
   "id": "3b30d56d",
   "metadata": {},
   "source": []
  },
  {
   "cell_type": "markdown",
   "id": "8e503e31",
   "metadata": {},
   "source": []
  }
 ],
 "metadata": {
  "kernelspec": {
   "display_name": "Python 3 (ipykernel)",
   "language": "python",
   "name": "python3"
  },
  "language_info": {
   "codemirror_mode": {
    "name": "ipython",
    "version": 3
   },
   "file_extension": ".py",
   "mimetype": "text/x-python",
   "name": "python",
   "nbconvert_exporter": "python",
   "pygments_lexer": "ipython3",
   "version": "3.10.4"
  }
 },
 "nbformat": 4,
 "nbformat_minor": 5
}
