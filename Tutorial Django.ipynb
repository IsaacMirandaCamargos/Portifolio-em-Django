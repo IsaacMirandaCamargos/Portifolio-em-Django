{
 "cells": [
  {
   "cell_type": "markdown",
   "id": "2f3aa45c",
   "metadata": {},
   "source": [
    "# Road map"
   ]
  },
  {
   "cell_type": "markdown",
   "id": "75dbfb42",
   "metadata": {},
   "source": [
    "### 1. Criando ambiente e instalando django"
   ]
  },
  {
   "cell_type": "markdown",
   "id": "3b2c4810",
   "metadata": {},
   "source": [
    "Para começar um projeto django devemos primeiro criar um ambiente virtual, entrar no ambiente virtual e instalar o django. Para isso usamos:"
   ]
  },
  {
   "cell_type": "markdown",
   "id": "27970b42",
   "metadata": {},
   "source": [
    "- Criar ambiente virtual: `python -m venv env`\n",
    "- Entrar no ambiente virtual: `.\\env\\Scripts\\activate`\n",
    "- Instalar django: `pip install django`"
   ]
  },
  {
   "cell_type": "markdown",
   "id": "7ff9b363",
   "metadata": {},
   "source": [
    "### 2. Começando o projeto"
   ]
  },
  {
   "cell_type": "markdown",
   "id": "c9374e88",
   "metadata": {},
   "source": [
    "Feito isso iniciaremos a criação da nossa aplicação: (core é o nome do aplicação)"
   ]
  },
  {
   "cell_type": "markdown",
   "id": "18bc9dc2",
   "metadata": {},
   "source": [
    "- `django-admin startproject core .`"
   ]
  },
  {
   "cell_type": "markdown",
   "id": "98590780",
   "metadata": {},
   "source": [
    "### 2.1 Pasta dos templates"
   ]
  },
  {
   "cell_type": "markdown",
   "id": "afd30614",
   "metadata": {},
   "source": [
    "Com o projeto criado, precisamos de uma pasta onde colocaremos todo nosso html e css das nossas paginas. \n",
    "\n",
    "Para isso criaremos uma pasta de \"templates\" na raiz do projeto. (na raiz do projeto significa, uma pasta ao lado da pasta do projeto)"
   ]
  },
  {
   "cell_type": "markdown",
   "id": "1cbadd06",
   "metadata": {},
   "source": [
    "Feito isto, iremos adicionar o \"diretorio\" dela dentro do \"projeto -> settings -> templates\":"
   ]
  },
  {
   "cell_type": "markdown",
   "id": "81e2d629",
   "metadata": {},
   "source": [
    "- `'DIRS': [os.path.join(BASE_DIR, 'templates')]`"
   ]
  },
  {
   "cell_type": "markdown",
   "id": "8d64f382",
   "metadata": {},
   "source": [
    "### 2.1 Pasta static"
   ]
  },
  {
   "cell_type": "markdown",
   "id": "d353494a",
   "metadata": {},
   "source": [
    "Criada a pasta templates e referenciada dentro do nosso projeto, iremos criar a pasta \"static\" dentro de \"templates\" para que possamos colocar arquivos como fotos, css e js."
   ]
  },
  {
   "cell_type": "markdown",
   "id": "ad61bdfa",
   "metadata": {},
   "source": [
    "Feito isso, precisamos adicionar o \"diretorio\" dela dentro do \"projeto -> settings\" abaixo de \"static\":"
   ]
  },
  {
   "cell_type": "markdown",
   "id": "abcc2d73",
   "metadata": {},
   "source": [
    "- `STATICFILES_DIRS = (os.path.join(BASE_DIR, 'templates/static'),)`\n",
    "- `STATIC_ROOT = os.path.join('static')`"
   ]
  },
  {
   "cell_type": "markdown",
   "id": "885053d4",
   "metadata": {},
   "source": [
    "### 2.2 Primeira migração"
   ]
  },
  {
   "cell_type": "markdown",
   "id": "66f9ec75",
   "metadata": {},
   "source": [
    "Observamos que até o momento, criamos nosso projeto e preparamos os locais onde armazenaremos nossos arquivos do site. Contudo, não possuimos nenhum banco de dados, ou seja, onde tiraremos as informações do site."
   ]
  },
  {
   "cell_type": "markdown",
   "id": "905a5cac",
   "metadata": {},
   "source": [
    "O django por padrão nos fornece alguns banco de dados, principalmente para cadastro e autenticação de usuarios, desse modo precisamos apenas cria-los (fazer migrações)."
   ]
  },
  {
   "cell_type": "markdown",
   "id": "c345a4e6",
   "metadata": {},
   "source": [
    "Para fazer migrações usamos:"
   ]
  },
  {
   "cell_type": "markdown",
   "id": "fe579cdf",
   "metadata": {},
   "source": [
    "- Fazer migrações: `python manage.py migrate`"
   ]
  },
  {
   "cell_type": "markdown",
   "id": "0c1da6b1",
   "metadata": {},
   "source": [
    "### 2.3 Criando super usuario"
   ]
  },
  {
   "cell_type": "markdown",
   "id": "275fd3c1",
   "metadata": {},
   "source": [
    "Agora iremos criar um super usuário. O super usuario é um usuário especial que possui poder para mexer nos bancos de dados e acessar a url \"/admin\" do site. Desse modo, usamos:"
   ]
  },
  {
   "cell_type": "markdown",
   "id": "a709bc55",
   "metadata": {},
   "source": [
    "- Criar super usuário: `python manage.py createsuperuser`"
   ]
  },
  {
   "cell_type": "markdown",
   "id": "40af745f",
   "metadata": {},
   "source": [
    "### 3. Criando uma aplicação"
   ]
  },
  {
   "cell_type": "markdown",
   "id": "f9c12a67",
   "metadata": {},
   "source": [
    "Começado o projeto, iremos criar agora uma aplicação. Uma aplicação pode ser descrita como uma pagina web(html) que possui varias funções(urls) para realizar um objetivo. "
   ]
  },
  {
   "cell_type": "markdown",
   "id": "74f6570a",
   "metadata": {},
   "source": [
    "Desse modo, para criarmos uma aplicação usamos:"
   ]
  },
  {
   "cell_type": "markdown",
   "id": "aa03f745",
   "metadata": {},
   "source": [
    "- Criar o app: `python manage.py startapp nome_do_app`"
   ]
  },
  {
   "cell_type": "markdown",
   "id": "c6b2bcc1",
   "metadata": {},
   "source": [
    "### 3.1 Adicionando a aplicação no projeto"
   ]
  },
  {
   "cell_type": "markdown",
   "id": "0f8fe490",
   "metadata": {},
   "source": [
    "Criado a aplicação, se observa a criação de uma pasta da aplicação e dentro dela há um arquivo \"apps.py\". \n",
    "\n",
    "Nesse arquivo há uma única classe que representa nossa aplicação, sendo assim, se faz necessário fazer referência a essa classe no \"projeto -> setting -> installed_apps\"."
   ]
  },
  {
   "cell_type": "markdown",
   "id": "3c22d487",
   "metadata": {},
   "source": [
    "Para fazer essa referência usamos:"
   ]
  },
  {
   "cell_type": "markdown",
   "id": "b0cff1ee",
   "metadata": {},
   "source": [
    "- `nome_do_app.apps.NomeDoAppConfig`"
   ]
  },
  {
   "cell_type": "markdown",
   "id": "84eafc80",
   "metadata": {},
   "source": [
    "### 3.2 Funções da aplicação: arquivo urls.py"
   ]
  },
  {
   "cell_type": "markdown",
   "id": "87037023",
   "metadata": {},
   "source": [
    "Referenciado o nome da classe da função, iremos criar um arquivo \"urls.py\" dentro da nossa aplicação. Esse arquivo irá conter todas as \"urls\" que nossa aplicação possui."
   ]
  },
  {
   "cell_type": "markdown",
   "id": "273a072a",
   "metadata": {},
   "source": [
    "Cada \"url\" é como se fosse uma chamada de função, ela pode nos levar a outra pagina, retornar informações ou alterar algo dentro da nossa pagina."
   ]
  },
  {
   "cell_type": "markdown",
   "id": "6566e495",
   "metadata": {},
   "source": [
    "Criado o arquivo \"urls.py\" precisamos referenciá-lo dentro do \"projeto -> urls.py\" da seguinte forma:"
   ]
  },
  {
   "cell_type": "markdown",
   "id": "517d94e6",
   "metadata": {},
   "source": [
    "- urlpatterns = [\n",
    "    - path('admin/', admin.site.urls),\n",
    "    - `path('', include('nome_do_app.urls'))`,\n",
    "]"
   ]
  },
  {
   "cell_type": "markdown",
   "id": "60b64819",
   "metadata": {},
   "source": [
    "### 3.3 Funções da aplicação: urls"
   ]
  },
  {
   "cell_type": "markdown",
   "id": "130e986d",
   "metadata": {},
   "source": [
    "Dentro do arquivo \"urls.py\" iremos definir como será feita a chamada das nossas \"urls\". Para isso iremos importar da biblioteca \"django.urls\" a função \"path\".\n",
    "\n",
    "Importada a função \"path\", iremos definir uma lista(urlpatterns) com todas as \"urls\" da nossa aplicação."
   ]
  },
  {
   "cell_type": "markdown",
   "id": "42d1d776",
   "metadata": {},
   "source": [
    "- from django.urls import path\n",
    "\n",
    "- from . import views\n",
    "\n",
    "- urlpatterns = [\n",
    "    path('nome_funcao/', views.funcao, name='funcao'),...]"
   ]
  },
  {
   "cell_type": "markdown",
   "id": "55c9815f",
   "metadata": {},
   "source": [
    "Observa-se que uma \"url\" em si não é a função, a função de cada está dentro do arquivo \"views.py\" que será visto a frente."
   ]
  },
  {
   "cell_type": "markdown",
   "id": "993b7ef2",
   "metadata": {},
   "source": [
    "### 3.4 Funções da aplicação: views.py"
   ]
  },
  {
   "cell_type": "markdown",
   "id": "a8242a09",
   "metadata": {},
   "source": [
    "Quando foi definido o \"path\" da nossa \"url\" percaba que foi passado um segundo parametro \"views.funcao\", esse segundo padrão é a função por de trás da url. No arquivo \"views.py\" iremos escrever todas as funções de cada uma das nossas urls."
   ]
  },
  {
   "cell_type": "markdown",
   "id": "e0344eb5",
   "metadata": {},
   "source": [
    "De modo geral, nossas funções podem ser GET ou POST. Quando uma função é GET ela é uma requisição ao servidor e envia uma resposta ao usuário. Quando uma função é POST ela envia uma requisição para o servidor de alterar, deletar ou adicionar alguma informação ao banco de dados."
   ]
  },
  {
   "cell_type": "markdown",
   "id": "9e2e2b2a",
   "metadata": {},
   "source": [
    "### 3.4.1 Escrevendo funções: views.py"
   ]
  },
  {
   "cell_type": "markdown",
   "id": "118393b3",
   "metadata": {},
   "source": [
    "Para escrever uma função GET usamos: (ela pode retornar qualquer coisa)"
   ]
  },
  {
   "cell_type": "markdown",
   "id": "b7558ffd",
   "metadata": {},
   "source": [
    "- @require_http_methods(['GET'])\n",
    "- def funcao(request):\n",
    "     - return render(request, 'index.html')"
   ]
  },
  {
   "cell_type": "markdown",
   "id": "e2e65348",
   "metadata": {},
   "source": [
    "Para escrever uma função POST usamos:"
   ]
  },
  {
   "cell_type": "markdown",
   "id": "83a6c441",
   "metadata": {},
   "source": [
    "- from .models import Banco_de_dados\n",
    "\n",
    "\n",
    "- @require_http_methods(['POST'])\n",
    "- def funcao_apagar(request):\n",
    "    - banco_de_dados_id = request.POST.get('id')\n",
    "    - banco_de_dados = Banco_de_dados.objects.get(id=banco_de_dados_id)\n",
    "    - banco_de_dados.delete()"
   ]
  },
  {
   "cell_type": "markdown",
   "id": "835beb4e",
   "metadata": {},
   "source": [
    "### 3.6 Criando modelos (models, ou banco de dados)"
   ]
  },
  {
   "cell_type": "markdown",
   "id": "11faf0d1",
   "metadata": {},
   "source": [
    "Modelos ou \"models\" são bancos de dados que podemos criar dentro de uma aplicação, nos modelos podemos salvar informações de diversos tipos. Abaixo temos um exemplo de modelo:"
   ]
  },
  {
   "cell_type": "markdown",
   "id": "92127cbe",
   "metadata": {},
   "source": [
    "- from django.db import models\n",
    "\n",
    "- class Quote(models.Model):\n",
    "\n",
    "    - thinker = models.CharField(max_length=200)\n",
    "    - text = models.TextField()\n",
    "\n",
    "    - def __str__(self):\n",
    "        - return self.thinker"
   ]
  },
  {
   "cell_type": "markdown",
   "id": "0395c7f5",
   "metadata": {},
   "source": [
    "Todo modelo criado só vai ficar salvo quando fizermos as migrações necessarias, para isso usamos:"
   ]
  },
  {
   "cell_type": "markdown",
   "id": "e3efc065",
   "metadata": {},
   "source": [
    "- `python .\\manage.py makemigrations`\n",
    "- `python .\\manage.py migrate`"
   ]
  },
  {
   "cell_type": "markdown",
   "id": "56bdfdcb",
   "metadata": {},
   "source": [
    "### 3.7 Adicionando modelo ao admin"
   ]
  },
  {
   "cell_type": "markdown",
   "id": "4e71e806",
   "metadata": {},
   "source": [
    "Sempre que criamos um modelo precisamos adiciona-lo ao \"admin.py\" da nossa aplicação. Desse modo usamos:"
   ]
  },
  {
   "cell_type": "markdown",
   "id": "970c253c",
   "metadata": {},
   "source": [
    "- from django.contrib import admin\n",
    "\n",
    "- from .models import Quote\n",
    "\n",
    "\n",
    "- admin.site.register(Quote)"
   ]
  },
  {
   "cell_type": "markdown",
   "id": "fa179b02",
   "metadata": {},
   "source": [
    "### 4. Criando templates"
   ]
  },
  {
   "cell_type": "markdown",
   "id": "0cf5c6e2",
   "metadata": {},
   "source": [
    "Preparado a parte de trás do nosso site(backend), iremos preparar a parte da frente(frontend). Para preparar o frotend iremos construir dentro de template uma pasta para nossa aplicação, de mesmo nome de preferencia."
   ]
  },
  {
   "cell_type": "markdown",
   "id": "aa45be8b",
   "metadata": {},
   "source": [
    "Dentro de \"templates -> pasta_nome_da_app\" iremos criar o \"index.html\" que será a pagina da nossa aplicação. Sempre que formos carregar nossa aplicação iremos carregar o \"index.html\" na função dentro de \"views.py\"."
   ]
  },
  {
   "cell_type": "markdown",
   "id": "56a32b5e",
   "metadata": {},
   "source": [
    "### 4.1 Criando templates: Dica"
   ]
  },
  {
   "cell_type": "markdown",
   "id": "96243b18",
   "metadata": {},
   "source": [
    "Uma estrategia interessante é criar um código \"html\" básico(basic.html) dentro de \"templates\", onde contem informações básicas de toda pagina."
   ]
  },
  {
   "cell_type": "markdown",
   "id": "a55170a7",
   "metadata": {},
   "source": [
    "Com o \"basic.html\" criado, podemos criar blocos dentro dele. Esses blocos serão preenchidos por informações do \"index.html\" de cada app. Desse modo, para criar esses blocos usamos:"
   ]
  },
  {
   "cell_type": "markdown",
   "id": "ff6c6cd1",
   "metadata": {},
   "source": [
    "- {% block 'nome_do_bloco' %}{% endblock %}"
   ]
  },
  {
   "cell_type": "markdown",
   "id": "d3c0c690",
   "metadata": {},
   "source": [
    "As informações que irão preencher os blocos do \"basic.html estão dentro de cada \"index.html\" dentro do correspondente bloco.\n",
    "\n",
    "Ademais, precisamos extender o \"index.html\" para dentro do \"basic.html\", para isso usamos o comando:"
   ]
  },
  {
   "cell_type": "markdown",
   "id": "7c3d4829",
   "metadata": {},
   "source": [
    "- {% extends '../base.html' %}{% extends '../base.html' %}\n",
    "- {% load static %}"
   ]
  },
  {
   "cell_type": "markdown",
   "id": "a2bbaa32",
   "metadata": {},
   "source": [
    "### Encerramento"
   ]
  },
  {
   "cell_type": "markdown",
   "id": "a5385b0c",
   "metadata": {},
   "source": [
    "Feitos os passos anteriores você está pronto para criar sua primeira aplicação."
   ]
  },
  {
   "cell_type": "markdown",
   "id": "b083f853",
   "metadata": {},
   "source": []
  },
  {
   "cell_type": "markdown",
   "id": "388afc0b",
   "metadata": {},
   "source": []
  },
  {
   "cell_type": "markdown",
   "id": "f47a8ad9",
   "metadata": {},
   "source": []
  },
  {
   "cell_type": "markdown",
   "id": "713ca90d",
   "metadata": {},
   "source": []
  },
  {
   "cell_type": "markdown",
   "id": "84a80764",
   "metadata": {},
   "source": []
  },
  {
   "cell_type": "markdown",
   "id": "38108a02",
   "metadata": {},
   "source": []
  },
  {
   "cell_type": "markdown",
   "id": "c37daacf",
   "metadata": {},
   "source": []
  },
  {
   "cell_type": "markdown",
   "id": "303af048",
   "metadata": {},
   "source": []
  }
 ],
 "metadata": {
  "kernelspec": {
   "display_name": "Python 3 (ipykernel)",
   "language": "python",
   "name": "python3"
  },
  "language_info": {
   "codemirror_mode": {
    "name": "ipython",
    "version": 3
   },
   "file_extension": ".py",
   "mimetype": "text/x-python",
   "name": "python",
   "nbconvert_exporter": "python",
   "pygments_lexer": "ipython3",
   "version": "3.10.4"
  }
 },
 "nbformat": 4,
 "nbformat_minor": 5
}
